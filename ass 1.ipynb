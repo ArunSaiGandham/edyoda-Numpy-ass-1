{
 "cells": [
  {
   "cell_type": "markdown",
   "id": "7efe2030",
   "metadata": {},
   "source": [
    "# 1. Create a null vector of size 10 but the fifth value which is 1."
   ]
  },
  {
   "cell_type": "code",
   "execution_count": 2,
   "id": "ca050f0d",
   "metadata": {},
   "outputs": [],
   "source": [
    "import numpy as np"
   ]
  },
  {
   "cell_type": "code",
   "execution_count": 4,
   "id": "88b3a50f",
   "metadata": {},
   "outputs": [
    {
     "name": "stdout",
     "output_type": "stream",
     "text": [
      "[0. 0. 0. 0. 1. 0. 0. 0. 0. 0.]\n"
     ]
    }
   ],
   "source": [
    "x = np.zeros(10)\n",
    "x[4] = 1\n",
    "print(x)"
   ]
  },
  {
   "cell_type": "markdown",
   "id": "c3a51056",
   "metadata": {},
   "source": [
    "# Create a vector with values ranging from 10 to 49."
   ]
  },
  {
   "cell_type": "code",
   "execution_count": 5,
   "id": "3720dd88",
   "metadata": {},
   "outputs": [
    {
     "name": "stdout",
     "output_type": "stream",
     "text": [
      "[10 11 12 13 14 15 16 17 18 19 20 21 22 23 24 25 26 27 28 29 30 31 32 33\n",
      " 34 35 36 37 38 39 40 41 42 43 44 45 46 47 48]\n"
     ]
    }
   ],
   "source": [
    "print(np.arange(10,49))"
   ]
  },
  {
   "cell_type": "markdown",
   "id": "089bd1fc",
   "metadata": {},
   "source": [
    "# Create a 3x3 matrix with values ranging from 0 to 8"
   ]
  },
  {
   "cell_type": "code",
   "execution_count": 8,
   "id": "9d1c3729",
   "metadata": {},
   "outputs": [
    {
     "name": "stdout",
     "output_type": "stream",
     "text": [
      "[[0 1 2]\n",
      " [3 4 5]\n",
      " [6 7 8]]\n"
     ]
    }
   ],
   "source": [
    "print(np.arange(0,9).reshape(3,3))"
   ]
  },
  {
   "cell_type": "markdown",
   "id": "7d1b4aee",
   "metadata": {},
   "source": [
    "# Find indices of non-zero elements from [1,2,0,0,4,0]"
   ]
  },
  {
   "cell_type": "code",
   "execution_count": 16,
   "id": "3deb92fc",
   "metadata": {},
   "outputs": [
    {
     "name": "stdout",
     "output_type": "stream",
     "text": [
      "[0, 1, 4]\n"
     ]
    }
   ],
   "source": [
    "A = [1,2,0,0,4,0]\n",
    "B = []\n",
    "\n",
    "for i in range(len(A)):\n",
    "    if A[i] != 0:\n",
    "        B.append(i)\n",
    "print(B)"
   ]
  },
  {
   "cell_type": "markdown",
   "id": "a9dda2fe",
   "metadata": {},
   "source": [
    "# Create a 10x10 array with random values and find the minimum and maximum values."
   ]
  },
  {
   "cell_type": "code",
   "execution_count": 22,
   "id": "2db181bb",
   "metadata": {},
   "outputs": [
    {
     "name": "stdout",
     "output_type": "stream",
     "text": [
      "min :  0.019233190474456374\n",
      "max :  0.9871769489220894\n"
     ]
    }
   ],
   "source": [
    "x = np.random.random((10,10))\n",
    "xmin, xmax = x.min(), x.max()\n",
    "# print(x)\n",
    "print(\"min : \",x.min())\n",
    "print(\"max : \",x.max())"
   ]
  },
  {
   "cell_type": "markdown",
   "id": "f168b442",
   "metadata": {},
   "source": [
    "# Create a random vector of size 30 and find the mean value."
   ]
  },
  {
   "cell_type": "code",
   "execution_count": 29,
   "id": "ca288bf2",
   "metadata": {},
   "outputs": [
    {
     "name": "stdout",
     "output_type": "stream",
     "text": [
      "Mean is :  0.5039453559000867\n"
     ]
    }
   ],
   "source": [
    "x = np.random.random((30))\n",
    "print(\"Mean is : \",x.mean())"
   ]
  },
  {
   "cell_type": "code",
   "execution_count": null,
   "id": "9a369fab",
   "metadata": {},
   "outputs": [],
   "source": []
  },
  {
   "cell_type": "code",
   "execution_count": null,
   "id": "b1ab8f80",
   "metadata": {},
   "outputs": [],
   "source": []
  }
 ],
 "metadata": {
  "kernelspec": {
   "display_name": "Python 3",
   "language": "python",
   "name": "python3"
  },
  "language_info": {
   "codemirror_mode": {
    "name": "ipython",
    "version": 3
   },
   "file_extension": ".py",
   "mimetype": "text/x-python",
   "name": "python",
   "nbconvert_exporter": "python",
   "pygments_lexer": "ipython3",
   "version": "3.8.8"
  }
 },
 "nbformat": 4,
 "nbformat_minor": 5
}
